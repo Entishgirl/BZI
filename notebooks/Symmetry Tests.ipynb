{
 "cells": [
  {
   "cell_type": "code",
   "execution_count": 1,
   "metadata": {},
   "outputs": [],
   "source": [
    "%load_ext autoreload\n",
    "%autoreload 2\n",
    "# %matplotlib notebook"
   ]
  },
  {
   "cell_type": "code",
   "execution_count": 2,
   "metadata": {
    "collapsed": true
   },
   "outputs": [],
   "source": [
    "from phenum.symmetry import get_lattice_pointGroup"
   ]
  },
  {
   "cell_type": "code",
   "execution_count": 3,
   "metadata": {
    "collapsed": true
   },
   "outputs": [],
   "source": [
    "import numpy as np\n",
    "from numpy.linalg import inv, norm\n",
    "from itertools import product\n",
    "from copy import deepcopy\n",
    "\n",
    "from BZI.symmetry import (find_orbitals, make_ptvecs,\n",
    "                          make_rptvecs, reduce_kpoint_list,\n",
    "                          find_orbits, find_orbitals, \n",
    "                          brillouin_zone_mapper)\n",
    "from BZI.sampling import make_cell_points, sphere_pts\n",
    "from BZI.plots import plot_mesh\n",
    "from phenum.vector_utils import _minkowski_reduce_basis"
   ]
  },
  {
   "cell_type": "code",
   "execution_count": 4,
   "metadata": {
    "collapsed": true
   },
   "outputs": [],
   "source": [
    "from BZI.pseudopots import Al_PP"
   ]
  },
  {
   "cell_type": "code",
   "execution_count": 5,
   "metadata": {},
   "outputs": [],
   "source": [
    "lat_consts = [2*np.pi]*3\n",
    "lat_angles = [np.pi/2]*3\n",
    "lat_center = 'body'\n",
    "lat_vecs = make_ptvecs(lat_center, lat_consts, lat_angles)\n",
    "rlat_vecs = make_rptvecs(lat_vecs)\n",
    "\n",
    "HNF = [[2,0,0],[0,2,0],[0,0,2]]\n",
    "grid_vecs = np.dot(rlat_vecs, inv(HNF))\n",
    "\n",
    "grid_offset = [0.0, 0.0, 0.0]\n",
    "# offset = np.dot(inv(grid_vecs), np.dot(rlat_vecs, grid_offset))\n",
    "grid = np.array(make_cell_points(rlat_vecs, grid_vecs, grid_offset))"
   ]
  },
  {
   "cell_type": "code",
   "execution_count": 6,
   "metadata": {
    "scrolled": true
   },
   "outputs": [
    {
     "name": "stdout",
     "output_type": "stream",
     "text": [
      "shift = (/ 0.0_dp, 0.0_dp, 0.0_dp /)\n",
      "R = transpose(reshape((/ -0.0_dp, 1.0_dp, 1.0_dp, &\n",
      "                          1.0_dp, 0.0_dp, 1.0_dp, &\n",
      "                          1.0_dp, 1.0_dp, 0.0_dp /),(/3,3/)))\n",
      "H = transpose(reshape((/ 2, 0, 0, &\n",
      "                          0, 2, 0, &\n",
      "                          0, 0, 2 /),(/3,3/)))\n"
     ]
    }
   ],
   "source": [
    "print(\"shift = (/ \" + \"_dp, \".join(map(str, np.round(grid_offset, 4))) + \"_dp\" + \" /)\")\n",
    "\n",
    "# Print the reciprocal lattice vectors in a format that is \n",
    "# easy to copy and paste into Fortran code.\n",
    "for i, r in enumerate(rlat_vecs):\n",
    "    if i == 0:\n",
    "        print(\"R = transpose(reshape((/ \" + \n",
    "              \"_dp, \".join(map(str, np.round(r, 12))) + \"_dp, &\")\n",
    "    elif i == 1:\n",
    "        print(\"                          \" + \n",
    "              \"_dp, \".join(map(str, np.round(r, 12))) + \"_dp, &\")\n",
    "    else: \n",
    "        print(\"                          \" + \n",
    "              \"_dp, \".join(map(str, np.round(r, 12))) + \"_dp /),\" + \n",
    "             \"(/3,3/)))\")\n",
    "        \n",
    "# Print the reciprocal lattice vectors in a format that is \n",
    "# easy to copy and paste into Fortran code.\n",
    "for i, r in enumerate(HNF):\n",
    "    if i == 0:\n",
    "        print(\"H = transpose(reshape((/ \" + \n",
    "              \", \".join(map(str, np.round(r, 12))) + \", &\")\n",
    "    elif i == 1:\n",
    "        print(\"                          \" + \n",
    "              \", \".join(map(str, np.round(r, 12))) + \", &\")\n",
    "    else:\n",
    "        print(\"                          \" + \n",
    "              \", \".join(map(str, np.round(r, 12))) + \" /),\" + \n",
    "             \"(/3,3/)))\")"
   ]
  },
  {
   "cell_type": "code",
   "execution_count": 8,
   "metadata": {},
   "outputs": [
    {
     "name": "stdout",
     "output_type": "stream",
     "text": [
      "reduced_grid\n",
      " [[ 0.   0.   0. ]\n",
      " [ 0.5  0.5  0. ]\n",
      " [ 1.   1.   1. ]]\n",
      "mink basis\n",
      " [[ 1.  0. -0.]\n",
      " [ 0.  1.  1.]\n",
      " [ 1. -1.  1.]]\n",
      "M\n",
      " [[-0.5  0.5  0.5]\n",
      " [ 1.   0.   0. ]\n",
      " [-0.5  1.5 -0.5]]\n",
      "[ 0.   0.5  1. ]\n",
      "[ 0.75  0.    0.25]\n",
      "transformed grid\n",
      " [[ 0.   0.   0. ]\n",
      " [ 0.   0.5  0.5]\n",
      " [ 0.5  1.   0.5]]\n"
     ]
    },
    {
     "data": {
      "text/plain": [
       "(array([[ 0. ,  0. ,  0. ],\n",
       "        [ 0. ,  0.5,  0.5],\n",
       "        [-0.5,  0. ,  0.5]]), [1, 6, 1])"
      ]
     },
     "execution_count": 8,
     "metadata": {},
     "output_type": "execute_result"
    }
   ],
   "source": [
    "brillouin_zone_mapper(grid, rlat_vecs, grid_vecs, grid_offset)"
   ]
  },
  {
   "cell_type": "code",
   "execution_count": null,
   "metadata": {
    "collapsed": true
   },
   "outputs": [],
   "source": []
  }
 ],
 "metadata": {
  "kernelspec": {
   "display_name": "Python 3",
   "language": "python",
   "name": "python3"
  },
  "language_info": {
   "codemirror_mode": {
    "name": "ipython",
    "version": 3
   },
   "file_extension": ".py",
   "mimetype": "text/x-python",
   "name": "python",
   "nbconvert_exporter": "python",
   "pygments_lexer": "ipython3",
   "version": "3.6.2"
  }
 },
 "nbformat": 4,
 "nbformat_minor": 2
}
