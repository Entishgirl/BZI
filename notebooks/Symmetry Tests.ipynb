{
 "cells": [
  {
   "cell_type": "code",
   "execution_count": 1,
   "metadata": {},
   "outputs": [],
   "source": [
    "%load_ext autoreload\n",
    "%autoreload 2\n",
    "# %matplotlib notebook"
   ]
  },
  {
   "cell_type": "code",
   "execution_count": 2,
   "metadata": {
    "collapsed": true
   },
   "outputs": [],
   "source": [
    "from phenum.symmetry import get_lattice_pointGroup"
   ]
  },
  {
   "cell_type": "code",
   "execution_count": 3,
   "metadata": {
    "collapsed": true
   },
   "outputs": [],
   "source": [
    "import numpy as np\n",
    "from numpy.linalg import inv, norm\n",
    "from itertools import product\n",
    "from copy import deepcopy\n",
    "\n",
    "from BZI.symmetry import (find_orbitals, make_ptvecs,\n",
    "                          make_rptvecs, reduce_kpoint_list,\n",
    "                          find_orbits, find_orbitals, \n",
    "                          brillouin_zone_mapper, reduce_kpoint_list)\n",
    "from BZI.sampling import make_cell_points, sphere_pts\n",
    "from BZI.plots import plot_mesh\n",
    "from BZI.symmetry import minkowski_reduce_basis"
   ]
  },
  {
   "cell_type": "code",
   "execution_count": 4,
   "metadata": {
    "collapsed": true
   },
   "outputs": [],
   "source": [
    "from BZI.pseudopots import Al_PP"
   ]
  },
  {
   "cell_type": "code",
   "execution_count": 5,
   "metadata": {
    "collapsed": true
   },
   "outputs": [],
   "source": [
    "lat_consts = [1.5*2*np.pi]*3\n",
    "lat_angles = [np.pi/2]*3\n",
    "lat_center = 'body'\n",
    "lat_vecs = make_ptvecs(lat_center, lat_consts, lat_angles)\n",
    "rlat_vecs = make_rptvecs(lat_vecs)\n",
    "\n",
    "HNF = [[1,0,0],[0,2,0],[1,2,3]]\n",
    "grid_vecs = np.dot(rlat_vecs, inv(HNF))\n",
    "\n",
    "grid_offset = [0.98, 0.23, 0.77]\n",
    "# offset = np.dot(inv(grid_vecs), np.dot(rlat_vecs, grid_offset))\n",
    "grid = np.array(make_cell_points(rlat_vecs, grid_vecs, grid_offset))"
   ]
  },
  {
   "cell_type": "code",
   "execution_count": 6,
   "metadata": {
    "scrolled": true
   },
   "outputs": [
    {
     "name": "stdout",
     "output_type": "stream",
     "text": [
      "shift = (/ 0.98_dp, 0.23_dp, 0.77_dp /)\n",
      "R = transpose(reshape((/ -0.0_dp, 0.666666666667_dp, 0.666666666667_dp, &\n",
      "                          0.666666666667_dp, 0.0_dp, 0.666666666667_dp, &\n",
      "                          0.666666666667_dp, 0.666666666667_dp, 0.0_dp /),(/3,3/)))\n",
      "H = transpose(reshape((/ 1, 0, 0, &\n",
      "                          0, 2, 0, &\n",
      "                          1, 2, 3 /),(/3,3/)))\n"
     ]
    }
   ],
   "source": [
    "print(\"shift = (/ \" + \"_dp, \".join(map(str, np.round(grid_offset, 4))) + \"_dp\" + \" /)\")\n",
    "\n",
    "# Print the reciprocal lattice vectors in a format that is \n",
    "# easy to copy and paste into Fortran code.\n",
    "for i, r in enumerate(rlat_vecs):\n",
    "    if i == 0:\n",
    "        print(\"R = transpose(reshape((/ \" + \n",
    "              \"_dp, \".join(map(str, np.round(r, 12))) + \"_dp, &\")\n",
    "    elif i == 1:\n",
    "        print(\"                          \" + \n",
    "              \"_dp, \".join(map(str, np.round(r, 12))) + \"_dp, &\")\n",
    "    else: \n",
    "        print(\"                          \" + \n",
    "              \"_dp, \".join(map(str, np.round(r, 12))) + \"_dp /),\" + \n",
    "             \"(/3,3/)))\")\n",
    "        \n",
    "# Print the reciprocal lattice vectors in a format that is \n",
    "# easy to copy and paste into Fortran code.\n",
    "for i, r in enumerate(HNF):\n",
    "    if i == 0:\n",
    "        print(\"H = transpose(reshape((/ \" + \n",
    "              \", \".join(map(str, np.round(r, 12))) + \", &\")\n",
    "    elif i == 1:\n",
    "        print(\"                          \" + \n",
    "              \", \".join(map(str, np.round(r, 12))) + \", &\")\n",
    "    else:\n",
    "        print(\"                          \" + \n",
    "              \", \".join(map(str, np.round(r, 12))) + \" /),\" + \n",
    "             \"(/3,3/)))\")"
   ]
  },
  {
   "cell_type": "code",
   "execution_count": 7,
   "metadata": {},
   "outputs": [
    {
     "data": {
      "text/plain": [
       "[(-1, -1, -1),\n",
       " (-1, -1, 0),\n",
       " (-1, 0, -1),\n",
       " (-1, 0, 0),\n",
       " (0, -1, -1),\n",
       " (0, -1, 0),\n",
       " (0, 0, -1),\n",
       " (0, 0, 0)]"
      ]
     },
     "execution_count": 7,
     "metadata": {},
     "output_type": "execute_result"
    }
   ],
   "source": [
    "list(product([-1,0], repeat=3))"
   ]
  },
  {
   "cell_type": "code",
   "execution_count": 8,
   "metadata": {},
   "outputs": [
    {
     "data": {
      "text/plain": [
       "array([[-0.        ,  0.66666667,  0.66666667],\n",
       "       [ 0.66666667,  0.        ,  0.66666667],\n",
       "       [ 0.66666667,  0.66666667,  0.        ]])"
      ]
     },
     "execution_count": 8,
     "metadata": {},
     "output_type": "execute_result"
    }
   ],
   "source": [
    "rlat_vecs"
   ]
  },
  {
   "cell_type": "code",
   "execution_count": 9,
   "metadata": {},
   "outputs": [
    {
     "data": {
      "text/plain": [
       "([array([ 0.64555556,  1.22222222,  0.73      ]),\n",
       "  array([ 0.20111111,  0.77777778,  0.73      ]),\n",
       "  array([ 0.42333333,  1.        ,  0.73      ]),\n",
       "  array([ 0.75666667,  1.        ,  1.06333333]),\n",
       "  array([ 0.97888889,  1.22222222,  1.06333333]),\n",
       "  array([ 0.53444444,  0.77777778,  1.06333333])],\n",
       " [1, 1, 1, 1, 1, 1])"
      ]
     },
     "execution_count": 9,
     "metadata": {},
     "output_type": "execute_result"
    }
   ],
   "source": [
    "reduce_kpoint_list(grid, rlat_vecs, grid_vecs, grid_offset)"
   ]
  },
  {
   "cell_type": "code",
   "execution_count": 10,
   "metadata": {},
   "outputs": [],
   "source": [
    "bzgrid, weights = brillouin_zone_mapper(grid, rlat_vecs, grid_vecs, grid_offset)"
   ]
  },
  {
   "cell_type": "code",
   "execution_count": 11,
   "metadata": {},
   "outputs": [
    {
     "data": {
      "text/plain": [
       "array([[-0.02111111, -0.11111111,  0.06333333],\n",
       "       [ 0.20111111,  0.11111111,  0.06333333],\n",
       "       [-0.24333333, -0.33333333,  0.06333333],\n",
       "       [ 0.09      ,  0.33333333, -0.27      ],\n",
       "       [-0.35444444, -0.11111111, -0.27      ],\n",
       "       [-0.13222222,  0.11111111, -0.27      ]])"
      ]
     },
     "execution_count": 11,
     "metadata": {},
     "output_type": "execute_result"
    }
   ],
   "source": [
    "bzgrid"
   ]
  },
  {
   "cell_type": "code",
   "execution_count": 12,
   "metadata": {},
   "outputs": [],
   "source": [
    "eps = 15\n",
    "mink_lat = minkowski_reduce_basis(rlat_vecs, eps)"
   ]
  },
  {
   "cell_type": "code",
   "execution_count": 13,
   "metadata": {},
   "outputs": [
    {
     "data": {
      "text/plain": [
       "array([[ 0.66666667,  0.        , -0.        ],\n",
       "       [ 0.        ,  0.66666667,  0.66666667],\n",
       "       [ 0.66666667, -0.66666667,  0.66666667]])"
      ]
     },
     "execution_count": 13,
     "metadata": {},
     "output_type": "execute_result"
    }
   ],
   "source": [
    "mink_lat"
   ]
  },
  {
   "cell_type": "code",
   "execution_count": 14,
   "metadata": {},
   "outputs": [
    {
     "data": {
      "text/plain": [
       "array([[  2.77555756e-17,   1.00000000e+00,   0.00000000e+00],\n",
       "       [  5.00000000e-01,   5.00000000e-01,   5.00000000e-01],\n",
       "       [  1.50000000e+00,   5.00000000e-01,  -5.00000000e-01]])"
      ]
     },
     "execution_count": 14,
     "metadata": {},
     "output_type": "execute_result"
    }
   ],
   "source": [
    "np.dot(rlat_vecs, inv(mink_lat))"
   ]
  },
  {
   "cell_type": "code",
   "execution_count": 15,
   "metadata": {},
   "outputs": [
    {
     "data": {
      "text/plain": [
       "array([[ 0.,  1.,  1.],\n",
       "       [ 0.,  0.,  1.],\n",
       "       [ 1.,  0.,  0.]])"
      ]
     },
     "execution_count": 15,
     "metadata": {},
     "output_type": "execute_result"
    }
   ],
   "source": [
    "np.dot(inv(mink_lat), rlat_vecs)"
   ]
  },
  {
   "cell_type": "code",
   "execution_count": 16,
   "metadata": {},
   "outputs": [
    {
     "data": {
      "text/plain": [
       "array([[-0.        ,  0.66666667,  0.66666667],\n",
       "       [ 0.66666667,  0.        ,  0.66666667],\n",
       "       [ 0.66666667,  0.66666667,  0.        ]])"
      ]
     },
     "execution_count": 16,
     "metadata": {},
     "output_type": "execute_result"
    }
   ],
   "source": [
    "rlat_vecs"
   ]
  },
  {
   "cell_type": "code",
   "execution_count": 17,
   "metadata": {},
   "outputs": [
    {
     "data": {
      "text/plain": [
       "array([[-0.22222222,  0.11111111,  0.22222222],\n",
       "       [ 0.44444444, -0.22222222,  0.22222222],\n",
       "       [ 0.66666667,  0.33333333,  0.        ]])"
      ]
     },
     "execution_count": 17,
     "metadata": {},
     "output_type": "execute_result"
    }
   ],
   "source": [
    "grid_vecs"
   ]
  },
  {
   "cell_type": "code",
   "execution_count": 18,
   "metadata": {},
   "outputs": [
    {
     "data": {
      "text/plain": [
       "[0.98, 0.23, 0.77]"
      ]
     },
     "execution_count": 18,
     "metadata": {},
     "output_type": "execute_result"
    }
   ],
   "source": [
    "grid_offset"
   ]
  },
  {
   "cell_type": "code",
   "execution_count": 30,
   "metadata": {},
   "outputs": [],
   "source": [
    "tmink_lat = np.transpose(mink_lat)"
   ]
  },
  {
   "cell_type": "code",
   "execution_count": 27,
   "metadata": {},
   "outputs": [],
   "source": [
    "pt = np.array([ 0.97888889,  1.22222222,  1.06333333])"
   ]
  },
  {
   "cell_type": "code",
   "execution_count": 34,
   "metadata": {},
   "outputs": [
    {
     "data": {
      "text/plain": [
       "array([[ 0.66666667,  0.        , -0.        ],\n",
       "       [ 0.        ,  0.66666667,  0.66666667],\n",
       "       [ 0.66666667, -0.66666667,  0.66666667]])"
      ]
     },
     "execution_count": 34,
     "metadata": {},
     "output_type": "execute_result"
    }
   ],
   "source": [
    "mink_lat"
   ]
  },
  {
   "cell_type": "code",
   "execution_count": 33,
   "metadata": {},
   "outputs": [
    {
     "data": {
      "text/plain": [
       "array([-0.35444444,  1.22222222,  1.06333333])"
      ]
     },
     "execution_count": 33,
     "metadata": {},
     "output_type": "execute_result"
    }
   ],
   "source": [
    "pt + np.dot([-2,0,0], mink_lat)"
   ]
  },
  {
   "cell_type": "code",
   "execution_count": 28,
   "metadata": {},
   "outputs": [
    {
     "data": {
      "text/plain": [
       "array([-0.35444444,  1.22222222, -0.27      ])"
      ]
     },
     "execution_count": 28,
     "metadata": {},
     "output_type": "execute_result"
    }
   ],
   "source": [
    "pt + np.dot(mink_lat, [-2,0,0])"
   ]
  },
  {
   "cell_type": "code",
   "execution_count": 29,
   "metadata": {},
   "outputs": [
    {
     "data": {
      "text/plain": [
       "array([ 0.31222222,  1.22222222,  0.39666666])"
      ]
     },
     "execution_count": 29,
     "metadata": {},
     "output_type": "execute_result"
    }
   ],
   "source": [
    "pt + -1*mink_lat[:,0] + 0*mink_lat[:,1] + 0*mink_lat[:,2]"
   ]
  },
  {
   "cell_type": "code",
   "execution_count": null,
   "metadata": {
    "collapsed": true
   },
   "outputs": [],
   "source": []
  }
 ],
 "metadata": {
  "kernelspec": {
   "display_name": "Python 3",
   "language": "python",
   "name": "python3"
  },
  "language_info": {
   "codemirror_mode": {
    "name": "ipython",
    "version": 2
   },
   "file_extension": ".py",
   "mimetype": "text/x-python",
   "name": "python",
   "nbconvert_exporter": "python",
   "pygments_lexer": "ipython2",
   "version": "2.7.13"
  }
 },
 "nbformat": 4,
 "nbformat_minor": 2
}
