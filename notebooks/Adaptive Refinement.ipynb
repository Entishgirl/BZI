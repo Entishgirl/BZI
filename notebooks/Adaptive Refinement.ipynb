{
 "cells": [
  {
   "cell_type": "markdown",
   "metadata": {},
   "source": [
    "# Adaptive sampling"
   ]
  },
  {
   "cell_type": "code",
   "execution_count": 10,
   "metadata": {
    "collapsed": true
   },
   "outputs": [],
   "source": [
    "import numpy as np"
   ]
  },
  {
   "cell_type": "code",
   "execution_count": 4,
   "metadata": {
    "collapsed": true
   },
   "outputs": [],
   "source": [
    "mesh = [[-1./2,-1./2],[-1./2,1./2],[1./2,-1./2],[1./2,1./2]]"
   ]
  },
  {
   "cell_type": "code",
   "execution_count": 5,
   "metadata": {
    "collapsed": true
   },
   "outputs": [],
   "source": [
    "def refined_toycutoff(grid,C):\n",
    "    \"\"\"Find the energy at which the toy band structure it cut.\n",
    "    \n",
    "    Args:\n",
    "        n (int): the number of grid points in the x- and y-directions.\n",
    "        C (float): the area that determines the cutoff.\n",
    "    Return:\n",
    "        (float) the cutoff value\n",
    "    \"\"\"\n",
    "    C = int(C*len(grid))\n",
    "    energies = np.array([])\n",
    "    for i,g in enumerate(grid):\n",
    "        energies = np.concatenate((energies,toyPP(g)))\n",
    "    return np.sort(energies)[C-1] # C -1 since python is zero based"
   ]
  },
  {
   "cell_type": "code",
   "execution_count": 6,
   "metadata": {
    "collapsed": true
   },
   "outputs": [],
   "source": [
    "def toy_rectangular_method(PP,grid,lengths,cutoff):\n",
    "    \"\"\"Integrate the eigenspectrum beneath the cutoff.\n",
    "    \n",
    "    Args:\n",
    "        PP (function): a function that returns an eigenspectrum.\n",
    "        n (int): the number of points along the x- and y-directions.\n",
    "        lengths (list): a list of edge l\n",
    "        cutoff (float): the cutoff value.\n",
    "        \n",
    "    Return:\n",
    "        (float): the volume of the eigenspectrum beneath the cutoff.\n",
    "    \"\"\"\n",
    "    \n",
    "    integrals = np.asarray([0. for _ in range(len(PP([0,0])))])\n",
    "    for j,kpt in enumerate(grid):\n",
    "        energies = PP(kpt)\n",
    "        for i,en in enumerate(energies):\n",
    "            if en <= cutoff:\n",
    "                integrals[i] += en*lengths[j]**2\n",
    "            else:\n",
    "                continue\n",
    "    return integrals"
   ]
  },
  {
   "cell_type": "code",
   "execution_count": 11,
   "metadata": {
    "collapsed": false
   },
   "outputs": [],
   "source": [
    "def add_points(meshpoint_list, edgelength_list):\n",
    "    edgelength_list = edgelength_list + [edgelength_list[-1]]*4\n",
    "    for n,m in itertools.product([-1,1],repeat=2):\n",
    "        meshpoint_list.append(meshpoint_list[-1] + \n",
    "                              np.array([edgelength_list[-1]*n/4,edgelength_list[-1]*m/4]))\n",
    "    return meshpoint_list, edgelength_list"
   ]
  },
  {
   "cell_type": "code",
   "execution_count": 8,
   "metadata": {
    "collapsed": true
   },
   "outputs": [],
   "source": [
    "def refine_meshpt(meshpt,edgelen):\n",
    "    \"\"\"Refine a mesh by increasing the sampling density \n",
    "    until the edge length of each square is less than \n",
    "    1e-2.\n",
    "    \n",
    "    Args:\n",
    "        meshpt (numpy.ndarray): the position of the mesh point.\n",
    "        edge_length (float): the edge length of the square.\n",
    "    \n",
    "    Returns:\n",
    "        meshpt_list (list): a list of mesh point coordinates.\n",
    "        edgelen_list (list): a list of edge lengths.\n",
    "    \"\"\"\n",
    "    \n",
    "    if edgelen >= 1e-2:\n",
    "        for n,m in itertools.product([-1,1],repeat=2):\n",
    "            print(meshpt)\n",
    "            return refine_meshpt(meshpt + np.array([edgelen*n/4,edgelen*m/4]), edgelen/2)\n",
    "    else:\n",
    "        return (meshpt, edgelen)"
   ]
  },
  {
   "cell_type": "code",
   "execution_count": 9,
   "metadata": {
    "collapsed": false
   },
   "outputs": [
    {
     "ename": "NameError",
     "evalue": "name 'np' is not defined",
     "output_type": "error",
     "traceback": [
      "\u001b[0;31m---------------------------------------------------------------------------\u001b[0m",
      "\u001b[0;31mNameError\u001b[0m                                 Traceback (most recent call last)",
      "\u001b[0;32m<ipython-input-9-7e1a6e284679>\u001b[0m in \u001b[0;36m<module>\u001b[0;34m()\u001b[0m\n\u001b[0;32m----> 1\u001b[0;31m \u001b[0mmesh_point\u001b[0m \u001b[0;34m=\u001b[0m \u001b[0mnp\u001b[0m\u001b[0;34m.\u001b[0m\u001b[0marray\u001b[0m\u001b[0;34m(\u001b[0m\u001b[0;34m[\u001b[0m\u001b[0;36m0\u001b[0m\u001b[0;34m,\u001b[0m\u001b[0;36m0\u001b[0m\u001b[0;34m]\u001b[0m\u001b[0;34m)\u001b[0m\u001b[0;34m\u001b[0m\u001b[0m\n\u001b[0m\u001b[1;32m      2\u001b[0m \u001b[0medge_length\u001b[0m \u001b[0;34m=\u001b[0m \u001b[0;36m1.\u001b[0m\u001b[0;34m\u001b[0m\u001b[0m\n\u001b[1;32m      3\u001b[0m \u001b[0mrefine_meshpt\u001b[0m\u001b[0;34m(\u001b[0m\u001b[0mmesh_point\u001b[0m\u001b[0;34m,\u001b[0m\u001b[0medge_length\u001b[0m\u001b[0;34m)\u001b[0m\u001b[0;34m\u001b[0m\u001b[0m\n",
      "\u001b[0;31mNameError\u001b[0m: name 'np' is not defined"
     ]
    }
   ],
   "source": [
    "mesh_point = np.array([0,0])\n",
    "edge_length = 1.\n",
    "refine_meshpt(mesh_point,edge_length)"
   ]
  }
 ],
 "metadata": {
  "kernelspec": {
   "display_name": "Python 3",
   "language": "python",
   "name": "python3"
  },
  "language_info": {
   "codemirror_mode": {
    "name": "ipython",
    "version": 3
   },
   "file_extension": ".py",
   "mimetype": "text/x-python",
   "name": "python",
   "nbconvert_exporter": "python",
   "pygments_lexer": "ipython3",
   "version": "3.5.2"
  }
 },
 "nbformat": 4,
 "nbformat_minor": 1
}
