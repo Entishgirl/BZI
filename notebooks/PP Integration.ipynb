{
 "cells": [
  {
   "cell_type": "markdown",
   "metadata": {},
   "source": [
    "## Integration"
   ]
  },
  {
   "cell_type": "code",
   "execution_count": 1,
   "metadata": {
    "collapsed": true
   },
   "outputs": [],
   "source": [
    "%load_ext autoreload\n",
    "%autoreload 2"
   ]
  },
  {
   "cell_type": "code",
   "execution_count": 3,
   "metadata": {
    "collapsed": true
   },
   "outputs": [],
   "source": [
    "import numpy as np\n",
    "import matplotlib.pyplot as plt\n",
    "import itertools\n",
    "import time\n",
    "from BZI.pseudopots import Al_lat_const, Al_lat_type, Al_rlat_vecs, Al_PP\n",
    "from BZI.integration import rectangular_method, rectangle_method, simple_fl\n",
    "from BZI.symmetry import make_ptvecs, make_rptvecs\n",
    "from BZI.sampling import make_grid\n",
    "from BZI.plots import ScatterPlotMultiple\n",
    "from BZI.convergence import Convergence\n",
    "from math import ceil"
   ]
  },
  {
   "cell_type": "markdown",
   "metadata": {},
   "source": [
    "Find the \"solution\" to the Fermi level and total energy"
   ]
  },
  {
   "cell_type": "code",
   "execution_count": 4,
   "metadata": {
    "collapsed": true
   },
   "outputs": [],
   "source": [
    "grid_type = \"fcc\"\n",
    "grid_const = Al_lat_const*20\n",
    "grid_vecs = make_rptvecs(grid_type, grid_const)\n",
    "offset = .5*np.sum(grid_vecs,1)\n",
    "grid = make_grid(Al_rlat_vecs, grid_vecs, offset)\n",
    "neigvals = 6\n",
    "nvalence = 3"
   ]
  },
  {
   "cell_type": "code",
   "execution_count": 5,
   "metadata": {
    "collapsed": true
   },
   "outputs": [],
   "source": [
    "fermi_level = simple_fl(Al_PP,grid,neigvals,nvalence)"
   ]
  },
  {
   "cell_type": "code",
   "execution_count": 6,
   "metadata": {},
   "outputs": [
    {
     "data": {
      "text/plain": [
       "11.579736297413049"
      ]
     },
     "execution_count": 6,
     "metadata": {},
     "output_type": "execute_result"
    }
   ],
   "source": [
    "fermi_level"
   ]
  },
  {
   "cell_type": "code",
   "execution_count": 15,
   "metadata": {},
   "outputs": [
    {
     "name": "stdout",
     "output_type": "stream",
     "text": [
      "60.69024419784546\n"
     ]
    }
   ],
   "source": [
    "rectangle_method(Al_PP, Al_rlat_vecs, grid_vecs, offset, fermi_level, neigvals)"
   ]
  }
 ],
 "metadata": {
  "kernelspec": {
   "display_name": "Python 3",
   "language": "python",
   "name": "python3"
  },
  "language_info": {
   "codemirror_mode": {
    "name": "ipython",
    "version": 3
   },
   "file_extension": ".py",
   "mimetype": "text/x-python",
   "name": "python",
   "nbconvert_exporter": "python",
   "pygments_lexer": "ipython3",
   "version": "3.6.1"
  }
 },
 "nbformat": 4,
 "nbformat_minor": 2
}
