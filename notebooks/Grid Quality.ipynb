{
 "cells": [
  {
   "cell_type": "markdown",
   "metadata": {},
   "source": [
    "## Grid Quality Notebook"
   ]
  },
  {
   "cell_type": "code",
   "execution_count": 2,
   "metadata": {
    "collapsed": true
   },
   "outputs": [],
   "source": [
    "import numpy as np\n",
    "from BZI.symmetry import make_ptvecs, make_rptvecs\n",
    "from BZI.sampling import sphere_pts"
   ]
  },
  {
   "cell_type": "code",
   "execution_count": 11,
   "metadata": {
    "collapsed": true
   },
   "outputs": [],
   "source": [
    "# These lattice constants were calculated in Mathematica and \n",
    "# are such that the volumes are the same.\n",
    "a_fcc = 1.\n",
    "a_bcc = 0.793701\n",
    "a_sc = 0.629961\n",
    "\n",
    "fcc_rlat_vecs = make_rptvecs(\"fcc\", a_fcc)\n",
    "bcc_rlat_vecs = make_rptvecs(\"bcc\", a_bcc)\n",
    "sc_rlat_vecs = make_rptvecs(\"sc\", a_sc)"
   ]
  },
  {
   "cell_type": "markdown",
   "metadata": {},
   "source": [
    "Verify the volumes are the same."
   ]
  },
  {
   "cell_type": "code",
   "execution_count": 14,
   "metadata": {},
   "outputs": [
    {
     "name": "stdout",
     "output_type": "stream",
     "text": [
      "Lattice Vectors \n",
      "fcc:\n",
      " [[ 6.28318531  6.28318531 -6.28318531]\n",
      " [-6.28318531  6.28318531  6.28318531]\n",
      " [ 6.28318531 -6.28318531  6.28318531]] \n",
      "bcc:\n",
      " [[ 7.9163127  0.         7.9163127]\n",
      " [ 7.9163127  7.9163127  0.       ]\n",
      " [ 0.         7.9163127  7.9163127]] \n",
      "sc:\n",
      " [[ 9.97392744  0.          0.        ]\n",
      " [ 0.          9.97392744  0.        ]\n",
      " [ 0.          0.          9.97392744]]\n",
      "Volumes \n",
      "fcc:  992.20085377 \n",
      "bcc:  992.199076077 \n",
      "sc:  992.19860912\n"
     ]
    }
   ],
   "source": [
    "vol_fcc = np.linalg.det(fcc_rlat_vecs)\n",
    "vol_bcc = np.linalg.det(bcc_rlat_vecs)\n",
    "vol_sc = np.linalg.det(sc_rlat_vecs)\n",
    "\n",
    "print(\"Lattice Vectors\",\"\\nfcc:\\n\", fcc_rlat_vecs, \"\\nbcc:\\n\", bcc_rlat_vecs, \"\\nsc:\\n\", sc_rlat_vecs)\n",
    "print(\"Volumes\",\"\\nfcc: \", vol_fcc, \"\\nbcc: \", vol_bcc, \"\\nsc: \", vol_sc)"
   ]
  },
  {
   "cell_type": "markdown",
   "metadata": {},
   "source": [
    "Let's see what the volumes are in real space."
   ]
  },
  {
   "cell_type": "code",
   "execution_count": 17,
   "metadata": {},
   "outputs": [
    {
     "name": "stdout",
     "output_type": "stream",
     "text": [
      "Reciprical Lattice Vectors \n",
      "fcc:\n",
      " [[ 0.5  0.5  0. ]\n",
      " [ 0.   0.5  0.5]\n",
      " [ 0.5  0.   0.5]] \n",
      "bcc:\n",
      " [[ 0.3968505 -0.3968505  0.3968505]\n",
      " [ 0.3968505  0.3968505 -0.3968505]\n",
      " [-0.3968505  0.3968505  0.3968505]] \n",
      "sc:\n",
      " [[ 0.629961  0.        0.      ]\n",
      " [ 0.        0.629961  0.      ]\n",
      " [ 0.        0.        0.629961]]\n",
      "Reciprical Space Volumes \n",
      "fcc:  0.25 \n",
      "bcc:  0.250000447917 \n",
      "sc:  0.250000565575\n"
     ]
    }
   ],
   "source": [
    "fcc_lat_vecs = make_ptvecs(\"fcc\", a_fcc)\n",
    "bcc_lat_vecs = make_ptvecs(\"bcc\", a_bcc)\n",
    "sc_lat_vecs = make_ptvecs(\"sc\", a_sc)\n",
    "\n",
    "realvol_fcc = np.linalg.det(fcc_lat_vecs)\n",
    "realvol_bcc = np.linalg.det(bcc_lat_vecs)\n",
    "realvol_sc = np.linalg.det(sc_lat_vecs)\n",
    "\n",
    "print(\"Reciprical Lattice Vectors\",\"\\nfcc:\\n\", fcc_lat_vecs, \"\\nbcc:\\n\", bcc_lat_vecs, \"\\nsc:\\n\", sc_lat_vecs)\n",
    "print(\"Reciprical Space Volumes\",\"\\nfcc: \", realvol_fcc, \"\\nbcc: \", realvol_bcc, \"\\nsc: \", realvol_sc)"
   ]
  },
  {
   "cell_type": "markdown",
   "metadata": {},
   "source": [
    "Apparently the volume of the supercell in real space is the same for all three.\n",
    "Next let's check the length of the vectors in real space."
   ]
  },
  {
   "cell_type": "code",
   "execution_count": 19,
   "metadata": {},
   "outputs": [
    {
     "name": "stdout",
     "output_type": "stream",
     "text": [
      "Cutoffs \n",
      "fcc:  0.707106781187 \n",
      "bcc:  0.687365229009 \n",
      "sc:  0.629961\n"
     ]
    }
   ],
   "source": [
    "fcc_rmin = np.linalg.norm(fcc_lat_vecs[:,0])\n",
    "bcc_rmin = np.linalg.norm(bcc_lat_vecs[:,0])\n",
    "sc_rmin = np.linalg.norm(sc_lat_vecs[:,0])\n",
    "\n",
    "print(\"Cutoffs\", \"\\nfcc: \", fcc_rmin, \"\\nbcc: \", bcc_rmin, \"\\nsc: \", sc_rmin)"
   ]
  },
  {
   "cell_type": "markdown",
   "metadata": {},
   "source": [
    "Face-centered cubic has the longest length cutoff or includes the most frequencies."
   ]
  },
  {
   "cell_type": "code",
   "execution_count": 22,
   "metadata": {},
   "outputs": [
    {
     "name": "stdout",
     "output_type": "stream",
     "text": [
      "fcc/bcc:  2.87206151028\n",
      "fcc/sc:  12.2461201863\n",
      "bcc/sc:  9.11234648004\n"
     ]
    }
   ],
   "source": [
    "print(\"fcc/bcc: \", fcc_rmin/bcc_rmin*100 - 100)\n",
    "print(\"fcc/sc: \", fcc_rmin/sc_rmin*100 - 100)\n",
    "print(\"bcc/sc: \", bcc_rmin/sc_rmin*100 - 100)"
   ]
  },
  {
   "cell_type": "code",
   "execution_count": 39,
   "metadata": {
    "collapsed": true
   },
   "outputs": [],
   "source": [
    "from BZI.sampling import sphere_pts\n",
    "from BZI.plots import PlotSphereMesh"
   ]
  },
  {
   "cell_type": "code",
   "execution_count": 43,
   "metadata": {},
   "outputs": [
    {
     "name": "stdout",
     "output_type": "stream",
     "text": [
      "Number of Fourier terms sc:  7\n",
      "Number of Fourier terms bcc:  15\n",
      "Number of Fourier terms fcc:  13\n"
     ]
    }
   ],
   "source": [
    "fourier_sc = sphere_pts(sc_lat_vecs, sc_rmin, [0,0,0])\n",
    "fourier_bcc = sphere_pts(bcc_lat_vecs, bcc_rmin, [0,0,0])\n",
    "fourier_fcc = sphere_pts(fcc_lat_vecs, fcc_rmin, [0,0,0])\n",
    "\n",
    "print(\"Number of Fourier terms sc: \", len(fourier_sc))\n",
    "print(\"Number of Fourier terms bcc: \", len(fourier_bcc))\n",
    "print(\"Number of Fourier terms fcc: \", len(fourier_fcc))"
   ]
  },
  {
   "cell_type": "markdown",
   "metadata": {},
   "source": [
    "An fcc grid would have the most Fourier terms for a set volume."
   ]
  },
  {
   "cell_type": "markdown",
   "metadata": {},
   "source": [
    "Let's calculate the average distance of these points. I think it would be more important to have more of the closer terms."
   ]
  },
  {
   "cell_type": "code",
   "execution_count": 47,
   "metadata": {},
   "outputs": [
    {
     "name": "stdout",
     "output_type": "stream",
     "text": [
      "sc  0.539966571429\n",
      "fcc  0.652713951865\n",
      "bcc  0.684075188805\n"
     ]
    }
   ],
   "source": [
    "sc_average_length = np.sum([np.linalg.norm(pt) for pt in fourier_sc])/len(fourier_sc)\n",
    "fcc_average_length = np.sum([np.linalg.norm(pt) for pt in fourier_fcc])/len(fourier_fcc)\n",
    "bcc_average_length = np.sum([np.linalg.norm(pt) for pt in fourier_bcc])/len(fourier_bcc)\n",
    "print(\"sc \", sc_average_length)\n",
    "print(\"fcc \", fcc_average_length)\n",
    "print(\"bcc \", bcc_average_length)"
   ]
  }
 ],
 "metadata": {
  "kernelspec": {
   "display_name": "Python 2",
   "language": "python",
   "name": "python2"
  },
  "language_info": {
   "codemirror_mode": {
    "name": "ipython",
    "version": 3
   },
   "file_extension": ".py",
   "mimetype": "text/x-python",
   "name": "python",
   "nbconvert_exporter": "python",
   "pygments_lexer": "ipython3",
   "version": "3.6.1"
  }
 },
 "nbformat": 4,
 "nbformat_minor": 1
}
