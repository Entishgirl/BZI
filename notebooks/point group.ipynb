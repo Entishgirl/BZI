{
 "cells": [
  {
   "cell_type": "markdown",
   "metadata": {},
   "source": [
    "Find the point group of a lattice."
   ]
  },
  {
   "cell_type": "code",
   "execution_count": 39,
   "metadata": {
    "collapsed": true
   },
   "outputs": [],
   "source": [
    "import numpy as np\n",
    "from numpy.linalg import norm\n",
    "from BZI.symmetry import Lattice\n",
    "from BZI.sampling import sphere_pts"
   ]
  },
  {
   "cell_type": "code",
   "execution_count": 69,
   "metadata": {},
   "outputs": [],
   "source": [
    "# Build lattice\n",
    "center_type = \"prim\"\n",
    "lat_consts = [1]*3\n",
    "lat_angles = [np.pi/2]*3\n",
    "lattice = Lattice(center_type, lat_consts, lat_angles)"
   ]
  },
  {
   "cell_type": "code",
   "execution_count": 70,
   "metadata": {
    "collapsed": true
   },
   "outputs": [],
   "source": [
    "# Build a grid within a sphere for this lattice.\n",
    "pts = sphere_pts(lattice.vectors, 3)"
   ]
  },
  {
   "cell_type": "code",
   "execution_count": 72,
   "metadata": {},
   "outputs": [
    {
     "name": "stdout",
     "output_type": "stream",
     "text": [
      "0.0\n",
      "0.0\n",
      "0.0\n",
      "0.0\n",
      "0.0\n",
      "0.0\n",
      "0.0\n",
      "0.0\n",
      "0.0\n",
      "0.0\n",
      "0.0\n",
      "0.0\n",
      "0.0\n",
      "0.0\n",
      "0.0\n",
      "0.0\n",
      "0.0\n",
      "0.0\n",
      "0.0\n",
      "0.0\n",
      "0.0\n",
      "0.0\n",
      "0.0\n",
      "0.0\n",
      "0.0\n",
      "0.0\n",
      "-2.01726527317e-67\n",
      "0.0\n",
      "0.0\n",
      "0.0\n",
      "0.0\n",
      "0.0\n",
      "0.0\n",
      "2.01726527317e-67\n",
      "0.0\n",
      "0.0\n",
      "0.0\n",
      "0.0\n",
      "0.0\n",
      "0.0\n",
      "0.0\n",
      "0.0\n",
      "0.0\n",
      "0.0\n",
      "0.0\n",
      "0.0\n",
      "0.0\n",
      "0.0\n",
      "0.0\n",
      "2.1881365962e-66\n",
      "0.0\n",
      "0.0\n",
      "0.0\n",
      "0.0\n",
      "0.0\n",
      "0.0\n",
      "0.0\n",
      "0.0\n",
      "0.0\n",
      "0.0\n",
      "0.0\n",
      "0.0\n",
      "0.0\n",
      "0.0\n",
      "0.0\n",
      "0.0\n",
      "0.0\n",
      "0.0\n",
      "0.0\n",
      "0.0\n",
      "0.0\n",
      "0.0\n",
      "0.0\n",
      "0.0\n",
      "0.0\n",
      "0.0\n",
      "0.0\n",
      "0.0\n",
      "0.0\n",
      "0.0\n",
      "0.0\n",
      "0.0\n",
      "0.0\n",
      "0.0\n",
      "0.0\n",
      "0.0\n",
      "0.0\n",
      "0.0\n",
      "0.0\n",
      "0.0\n",
      "0.0\n",
      "0.0\n",
      "0.0\n",
      "0.0\n",
      "0.0\n",
      "0.0\n",
      "0.0\n",
      "0.0\n",
      "0.0\n",
      "0.0\n",
      "0.0\n",
      "0.0\n",
      "0.0\n",
      "0.0\n",
      "0.0\n",
      "0.0\n",
      "0.0\n",
      "0.0\n",
      "0.0\n",
      "0.0\n",
      "0.0\n",
      "0.0\n",
      "0.0\n",
      "0.0\n",
      "0.0\n",
      "0.0\n",
      "0.0\n",
      "0.0\n",
      "0.0\n",
      "0.0\n",
      "0.0\n",
      "0.0\n",
      "0.0\n",
      "0.0\n",
      "0.0\n",
      "0.0\n",
      "0.0\n",
      "0.0\n",
      "0.0\n",
      "0.0\n",
      "0.0\n",
      "0.0\n",
      "0.0\n",
      "0.0\n",
      "0.0\n",
      "0.0\n",
      "0.0\n",
      "0.0\n",
      "0.0\n",
      "0.0\n",
      "0.0\n",
      "0.0\n",
      "0.0\n",
      "0.0\n",
      "0.0\n",
      "0.0\n",
      "0.0\n",
      "0.0\n",
      "0.0\n",
      "0.0\n",
      "0.0\n",
      "0.0\n",
      "0.0\n",
      "0.0\n",
      "0.0\n",
      "0.0\n",
      "0.0\n",
      "0.0\n",
      "0.0\n",
      "0.0\n",
      "0.0\n",
      "0.0\n",
      "0.0\n",
      "0.0\n",
      "0.0\n",
      "0.0\n",
      "0.0\n",
      "0.0\n",
      "2.1881365962e-66\n",
      "0.0\n",
      "0.0\n",
      "0.0\n",
      "0.0\n",
      "0.0\n",
      "0.0\n",
      "0.0\n",
      "0.0\n",
      "0.0\n",
      "0.0\n",
      "0.0\n",
      "0.0\n",
      "0.0\n",
      "0.0\n",
      "0.0\n",
      "2.01726527317e-67\n",
      "0.0\n",
      "0.0\n",
      "0.0\n",
      "0.0\n",
      "0.0\n",
      "0.0\n",
      "-2.01726527317e-67\n",
      "0.0\n",
      "0.0\n",
      "0.0\n",
      "0.0\n",
      "0.0\n",
      "0.0\n",
      "0.0\n",
      "0.0\n",
      "0.0\n",
      "0.0\n",
      "0.0\n",
      "0.0\n",
      "0.0\n",
      "0.0\n",
      "0.0\n",
      "0.0\n",
      "0.0\n",
      "0.0\n",
      "0.0\n",
      "0.0\n",
      "0.0\n",
      "0.0\n",
      "0.0\n",
      "0.0\n",
      "0.0\n",
      "0.0\n"
     ]
    }
   ],
   "source": [
    "# Build the operators.\n",
    "point_group = []\n",
    "for p1 in pts:\n",
    "    p1 = np.array(p1)\n",
    "    for p2 in pts:\n",
    "        p2 = np.array(p2)\n",
    "        if np.isclose(np.dot(p1,p1), np.dot(p2,p2)):\n",
    "            if np.allclose(p1,p2):\n",
    "                continue\n",
    "            else:\n",
    "                ip2 = p2/(np.dot(p2,p2))\n",
    "                op = np.outer(ip2,p1)\n",
    "                print(np.linalg.det(op))\n",
    "                try:\n",
    "                    det = np.linalg.det(op)\n",
    "                    if np.isclose(abs(det),1):\n",
    "                        point_group.append(op)\n",
    "                except:\n",
    "                    continue"
   ]
  },
  {
   "cell_type": "code",
   "execution_count": 49,
   "metadata": {},
   "outputs": [
    {
     "data": {
      "text/plain": [
       "[]"
      ]
     },
     "execution_count": 49,
     "metadata": {},
     "output_type": "execute_result"
    }
   ],
   "source": [
    "point_group"
   ]
  },
  {
   "cell_type": "code",
   "execution_count": 16,
   "metadata": {
    "collapsed": true
   },
   "outputs": [],
   "source": [
    "import numpy as np\n",
    "from BZI.symmetry import make_ptvecs, make_rptvecs\n",
    "from BZI.sampling import make_cell_points\n",
    "from BZI.pseudopots import Al_lat_const\n",
    "from BZI.symmetry import find_orbitals"
   ]
  },
  {
   "cell_type": "code",
   "execution_count": 7,
   "metadata": {},
   "outputs": [],
   "source": [
    "center_type = \"face\"\n",
    "lat_angles = [np.pi/2]*3\n",
    "lat_consts = [Al_lat_const]*3\n",
    "lat_vecs = make_ptvecs(center_type, lat_consts, lat_angles)\n",
    "rlat_vecs = make_rptvecs(lat_vecs)"
   ]
  },
  {
   "cell_type": "code",
   "execution_count": 13,
   "metadata": {},
   "outputs": [],
   "source": [
    "grid_center_type = \"face\"\n",
    "grid_angles = [np.pi/2]*3\n",
    "grid_constants = [Al_lat_const*5]*3\n",
    "grid_vecs = make_ptvecs(grid_center_type, grid_constants, grid_angles)\n",
    "rgrid_vecs = make_rptvecs(grid_vecs)"
   ]
  },
  {
   "cell_type": "code",
   "execution_count": 14,
   "metadata": {},
   "outputs": [],
   "source": [
    "offset = [0.]*3\n",
    "grid_pts = make_cell_points(rlat_vecs, rgrid_vecs, offset)"
   ]
  },
  {
   "cell_type": "code",
   "execution_count": 24,
   "metadata": {},
   "outputs": [
    {
     "data": {
      "text/plain": [
       "array([[-0.16419352,  0.16419352,  0.16419352],\n",
       "       [ 0.16419352, -0.16419352,  0.16419352],\n",
       "       [ 0.16419352,  0.16419352, -0.16419352]])"
      ]
     },
     "execution_count": 24,
     "metadata": {},
     "output_type": "execute_result"
    }
   ],
   "source": [
    "rgrid_vecs"
   ]
  },
  {
   "cell_type": "code",
   "execution_count": 25,
   "metadata": {},
   "outputs": [
    {
     "data": {
      "text/plain": [
       "array([[-0.82096758,  0.82096758,  0.82096758],\n",
       "       [ 0.82096758, -0.82096758,  0.82096758],\n",
       "       [ 0.82096758,  0.82096758, -0.82096758]])"
      ]
     },
     "execution_count": 25,
     "metadata": {},
     "output_type": "execute_result"
    }
   ],
   "source": [
    "rlat_vecs"
   ]
  },
  {
   "cell_type": "code",
   "execution_count": 23,
   "metadata": {},
   "outputs": [
    {
     "data": {
      "text/plain": [
       "[array([ 0.,  0.,  0.]),\n",
       " array([ 0.16419352,  0.16419352, -0.16419352]),\n",
       " array([ 0.32838703,  0.32838703, -0.32838703]),\n",
       " array([ 0.49258055,  0.49258055, -0.49258055]),\n",
       " array([ 0.65677407,  0.65677407, -0.65677407]),\n",
       " array([ 0.16419352, -0.16419352,  0.16419352]),\n",
       " array([  3.28387034e-01,   3.04165814e-13,  -3.04210223e-13]),\n",
       " array([ 0.49258055,  0.16419352, -0.16419352]),\n",
       " array([ 0.65677407,  0.32838703, -0.32838703]),\n",
       " array([ 0.82096758,  0.49258055, -0.49258055]),\n",
       " array([ 0.32838703, -0.32838703,  0.32838703]),\n",
       " array([ 0.49258055, -0.16419352,  0.16419352]),\n",
       " array([  6.56774067e-01,  -2.12663367e-13,   2.12574549e-13]),\n",
       " array([ 0.82096758,  0.16419352, -0.16419352]),\n",
       " array([ 0.9851611 ,  0.32838703, -0.32838703]),\n",
       " array([ 0.49258055, -0.49258055,  0.49258055]),\n",
       " array([ 0.65677407, -0.32838703,  0.32838703]),\n",
       " array([ 0.82096758, -0.16419352,  0.16419352]),\n",
       " array([  9.85161101e-01,   9.16134699e-14,  -9.17466966e-14]),\n",
       " array([ 1.14935462,  0.16419352, -0.16419352]),\n",
       " array([ 0.65677407, -0.65677407,  0.65677407]),\n",
       " array([ 0.82096758, -0.49258055,  0.49258055]),\n",
       " array([ 0.9851611 , -0.32838703,  0.32838703]),\n",
       " array([ 1.14935462, -0.16419352,  0.16419352]),\n",
       " array([  1.31354813e+00,   3.95622689e-13,  -3.95800325e-13]),\n",
       " array([-0.16419352,  0.16419352,  0.16419352]),\n",
       " array([  3.04193570e-13,   3.28387034e-01,  -3.04210223e-13]),\n",
       " array([ 0.16419352,  0.49258055, -0.16419352]),\n",
       " array([ 0.32838703,  0.65677407, -0.32838703]),\n",
       " array([ 0.49258055,  0.82096758, -0.49258055]),\n",
       " array([  0.00000000e+00,  -2.77555756e-17,   3.28387034e-01]),\n",
       " array([ 0.16419352,  0.16419352,  0.16419352]),\n",
       " array([  3.28387034e-01,   3.28387034e-01,   2.12574549e-13]),\n",
       " array([ 0.49258055,  0.49258055, -0.16419352]),\n",
       " array([ 0.65677407,  0.65677407, -0.32838703]),\n",
       " array([ 0.16419352, -0.16419352,  0.49258055]),\n",
       " array([  3.28387034e-01,   3.04138059e-13,   3.28387034e-01]),\n",
       " array([ 0.49258055,  0.16419352,  0.16419352]),\n",
       " array([  6.56774067e-01,   3.28387034e-01,  -9.16356743e-14]),\n",
       " array([ 0.82096758,  0.49258055, -0.16419352]),\n",
       " array([ 0.32838703, -0.32838703,  0.65677407]),\n",
       " array([ 0.49258055, -0.16419352,  0.49258055]),\n",
       " array([  6.56774067e-01,  -2.12552345e-13,   3.28387034e-01]),\n",
       " array([ 0.82096758,  0.16419352,  0.16419352]),\n",
       " array([  9.85161101e-01,   3.28387034e-01,  -3.95911347e-13]),\n",
       " array([ 0.49258055, -0.49258055,  0.82096758]),\n",
       " array([ 0.65677407, -0.32838703,  0.65677407]),\n",
       " array([ 0.82096758, -0.16419352,  0.49258055]),\n",
       " array([  9.85161101e-01,   9.15024476e-14,   3.28387034e-01]),\n",
       " array([ 1.14935462,  0.16419352,  0.16419352]),\n",
       " array([-0.32838703,  0.32838703,  0.32838703]),\n",
       " array([-0.16419352,  0.49258055,  0.16419352]),\n",
       " array([ -2.12607856e-13,   6.56774067e-01,   2.12574549e-13]),\n",
       " array([ 0.16419352,  0.82096758, -0.16419352]),\n",
       " array([ 0.32838703,  0.9851611 , -0.32838703]),\n",
       " array([-0.16419352,  0.16419352,  0.49258055]),\n",
       " array([  3.04193570e-13,   3.28387034e-01,   3.28387034e-01]),\n",
       " array([ 0.16419352,  0.49258055,  0.16419352]),\n",
       " array([  3.28387034e-01,   6.56774067e-01,  -9.16356743e-14]),\n",
       " array([ 0.49258055,  0.82096758, -0.16419352]),\n",
       " array([  0.00000000e+00,  -5.55111512e-17,   6.56774067e-01]),\n",
       " array([ 0.16419352,  0.16419352,  0.49258055]),\n",
       " array([ 0.32838703,  0.32838703,  0.32838703]),\n",
       " array([ 0.49258055,  0.49258055,  0.16419352]),\n",
       " array([  6.56774067e-01,   6.56774067e-01,  -3.95800325e-13]),\n",
       " array([ 0.16419352, -0.16419352,  0.82096758]),\n",
       " array([  3.28387034e-01,   3.04221326e-13,   6.56774067e-01]),\n",
       " array([ 0.49258055,  0.16419352,  0.49258055]),\n",
       " array([ 0.65677407,  0.32838703,  0.32838703]),\n",
       " array([ 0.82096758,  0.49258055,  0.16419352]),\n",
       " array([ 0.32838703, -0.32838703,  0.9851611 ]),\n",
       " array([ 0.49258055, -0.16419352,  0.82096758]),\n",
       " array([  6.56774067e-01,  -2.12718878e-13,   6.56774067e-01]),\n",
       " array([ 0.82096758,  0.16419352,  0.49258055]),\n",
       " array([ 0.9851611 ,  0.32838703,  0.32838703]),\n",
       " array([-0.49258055,  0.49258055,  0.49258055]),\n",
       " array([-0.32838703,  0.65677407,  0.32838703]),\n",
       " array([-0.16419352,  0.82096758,  0.16419352]),\n",
       " array([  9.16689810e-14,   9.85161101e-01,  -9.17466966e-14]),\n",
       " array([ 0.16419352,  1.14935462, -0.16419352]),\n",
       " array([-0.32838703,  0.32838703,  0.65677407]),\n",
       " array([-0.16419352,  0.49258055,  0.49258055]),\n",
       " array([ -2.12552345e-13,   6.56774067e-01,   3.28387034e-01]),\n",
       " array([ 0.16419352,  0.82096758,  0.16419352]),\n",
       " array([  3.28387034e-01,   9.85161101e-01,  -3.95911347e-13]),\n",
       " array([-0.16419352,  0.16419352,  0.82096758]),\n",
       " array([  3.04276837e-13,   3.28387034e-01,   6.56774067e-01]),\n",
       " array([ 0.16419352,  0.49258055,  0.49258055]),\n",
       " array([ 0.32838703,  0.65677407,  0.32838703]),\n",
       " array([ 0.49258055,  0.82096758,  0.16419352]),\n",
       " array([  0.00000000e+00,  -5.55111512e-17,   9.85161101e-01]),\n",
       " array([ 0.16419352,  0.16419352,  0.82096758]),\n",
       " array([ 0.32838703,  0.32838703,  0.65677407]),\n",
       " array([ 0.49258055,  0.49258055,  0.49258055]),\n",
       " array([ 0.65677407,  0.65677407,  0.32838703]),\n",
       " array([ 0.16419352, -0.16419352,  1.14935462]),\n",
       " array([  3.28387034e-01,   3.03999281e-13,   9.85161101e-01]),\n",
       " array([ 0.49258055,  0.16419352,  0.82096758]),\n",
       " array([ 0.65677407,  0.32838703,  0.65677407]),\n",
       " array([ 0.82096758,  0.49258055,  0.49258055]),\n",
       " array([-0.65677407,  0.65677407,  0.65677407]),\n",
       " array([-0.49258055,  0.82096758,  0.49258055]),\n",
       " array([-0.32838703,  0.9851611 ,  0.32838703]),\n",
       " array([-0.16419352,  1.14935462,  0.16419352]),\n",
       " array([  3.95733711e-13,   1.31354813e+00,  -3.95800325e-13]),\n",
       " array([-0.49258055,  0.49258055,  0.82096758]),\n",
       " array([-0.32838703,  0.65677407,  0.65677407]),\n",
       " array([-0.16419352,  0.82096758,  0.49258055]),\n",
       " array([  9.16134699e-14,   9.85161101e-01,   3.28387034e-01]),\n",
       " array([ 0.16419352,  1.14935462,  0.16419352]),\n",
       " array([-0.32838703,  0.32838703,  0.9851611 ]),\n",
       " array([-0.16419352,  0.49258055,  0.82096758]),\n",
       " array([ -2.12607856e-13,   6.56774067e-01,   6.56774067e-01]),\n",
       " array([ 0.16419352,  0.82096758,  0.49258055]),\n",
       " array([ 0.32838703,  0.9851611 ,  0.32838703]),\n",
       " array([-0.16419352,  0.16419352,  1.14935462]),\n",
       " array([  3.04110303e-13,   3.28387034e-01,   9.85161101e-01]),\n",
       " array([ 0.16419352,  0.49258055,  0.82096758]),\n",
       " array([ 0.32838703,  0.65677407,  0.65677407]),\n",
       " array([ 0.49258055,  0.82096758,  0.49258055]),\n",
       " array([  0.00000000e+00,  -1.11022302e-16,   1.31354813e+00]),\n",
       " array([ 0.16419352,  0.16419352,  1.14935462]),\n",
       " array([ 0.32838703,  0.32838703,  0.9851611 ]),\n",
       " array([ 0.49258055,  0.49258055,  0.82096758]),\n",
       " array([ 0.65677407,  0.65677407,  0.65677407])]"
      ]
     },
     "execution_count": 23,
     "metadata": {},
     "output_type": "execute_result"
    }
   ],
   "source": [
    "grid_pts"
   ]
  },
  {
   "cell_type": "code",
   "execution_count": 21,
   "metadata": {},
   "outputs": [
    {
     "data": {
      "text/plain": [
       "10"
      ]
     },
     "execution_count": 21,
     "metadata": {},
     "output_type": "execute_result"
    }
   ],
   "source": [
    "len(find_orbitals(grid_pts, rlat_vecs))"
   ]
  },
  {
   "cell_type": "code",
   "execution_count": 22,
   "metadata": {},
   "outputs": [
    {
     "data": {
      "text/plain": [
       "array([[-0.82096758,  0.82096758,  0.82096758],\n",
       "       [ 0.82096758, -0.82096758,  0.82096758],\n",
       "       [ 0.82096758,  0.82096758, -0.82096758]])"
      ]
     },
     "execution_count": 22,
     "metadata": {},
     "output_type": "execute_result"
    }
   ],
   "source": [
    "rlat_vecs"
   ]
  },
  {
   "cell_type": "code",
   "execution_count": 17,
   "metadata": {},
   "outputs": [
    {
     "name": "stdout",
     "output_type": "stream",
     "text": [
      "Help on function find_orbitals in module BZI.symmetry:\n",
      "\n",
      "find_orbitals(grid_car, cell_vecs, coord='cart')\n",
      "    Find the partial orbitals of the points in a grid, including only the\n",
      "    points that are in the grid.\n",
      "    \n",
      "    Args:\n",
      "        grid_car (list): a list of grid point positions in Cartesian \n",
      "            coordinates.\n",
      "        cell_vecs (numpy.ndarray): the vectors that define the integration cell.\n",
      "        coord (str): a string that indicatese coordinate system of the points.\n",
      "            It can be in Cartesian (\"cart\") or lattice (\"cell\").\n",
      "    \n",
      "    Returns:\n",
      "        mp_orbitals (dict): the orbitals of the grid points in a dictionary. \n",
      "            The keys of the dictionary are integer labels and the values are the\n",
      "            grid points in the orbital.\n",
      "\n"
     ]
    }
   ],
   "source": [
    "help(find_orbitals)"
   ]
  },
  {
   "cell_type": "code",
   "execution_count": null,
   "metadata": {
    "collapsed": true
   },
   "outputs": [],
   "source": []
  }
 ],
 "metadata": {
  "kernelspec": {
   "display_name": "Python 3",
   "language": "python",
   "name": "python3"
  },
  "language_info": {
   "codemirror_mode": {
    "name": "ipython",
    "version": 3
   },
   "file_extension": ".py",
   "mimetype": "text/x-python",
   "name": "python",
   "nbconvert_exporter": "python",
   "pygments_lexer": "ipython3",
   "version": "3.6.1"
  }
 },
 "nbformat": 4,
 "nbformat_minor": 2
}
